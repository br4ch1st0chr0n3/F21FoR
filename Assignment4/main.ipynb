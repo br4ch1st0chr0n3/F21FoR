{
 "cells": [
  {
   "cell_type": "markdown",
   "metadata": {},
   "source": [
    "# Assignment 4"
   ]
  },
  {
   "cell_type": "markdown",
   "metadata": {},
   "source": [
    "## Main tasks"
   ]
  },
  {
   "cell_type": "markdown",
   "metadata": {},
   "source": []
  },
  {
   "cell_type": "code",
   "execution_count": 8,
   "metadata": {},
   "outputs": [],
   "source": [
    "from utils import fk_symb\n",
    "import sympy as sp\n",
    "\n",
    "# (4,4)\n",
    "Tbase = sp.eye(4)\n",
    "# (7,4,4)\n",
    "Ts_q = [Tbase] + fk_symb"
   ]
  },
  {
   "cell_type": "code",
   "execution_count": 9,
   "metadata": {},
   "outputs": [],
   "source": [
    "from utils import qs_symb, n_link\n",
    "t = sp.symbols('t')\n",
    "\n",
    "qs = [sp.Function(f'q{i}')(t) for i in range(1,n_link+1)]\n",
    "Ts = [t.subs(zip(qs_symb,qs)) for t in Ts_q]"
   ]
  },
  {
   "cell_type": "code",
   "execution_count": 10,
   "metadata": {},
   "outputs": [],
   "source": [
    "import numpy as np\n",
    "# (7,3)\n",
    "ps = [np.array(t[:3,3].T.tolist())[0] for t in Ts]"
   ]
  },
  {
   "cell_type": "code",
   "execution_count": 11,
   "metadata": {},
   "outputs": [],
   "source": [
    "from utils import link_lengths\n",
    "# (6,1)\n",
    "cs = link_lengths / 2"
   ]
  },
  {
   "cell_type": "code",
   "execution_count": 12,
   "metadata": {},
   "outputs": [],
   "source": [
    "import numpy as np\n",
    "# (6,1)\n",
    "ks = np.array([2,0,0,2,0,2])"
   ]
  },
  {
   "cell_type": "code",
   "execution_count": 13,
   "metadata": {},
   "outputs": [],
   "source": [
    "# (6,3,3)\n",
    "Rs = [t[:3,:3] for t in Ts[1:]]\n",
    "# (6,3)\n",
    "pcs = [np.array((t[:3,3] + c * t[:3,k]).tolist()) for t,c,k in zip(Ts[1:], cs, ks)]\n",
    "# (6,4,4)\n",
    "Tcs = [sp.eye(4) for i in pcs]\n",
    "for i,r,p in zip(Tcs, Rs, pcs):\n",
    "    i[:3,:3] = r\n",
    "    i[:3,3] = p"
   ]
  },
  {
   "cell_type": "code",
   "execution_count": 14,
   "metadata": {},
   "outputs": [],
   "source": [
    "# (7,1,3)\n",
    "us = [np.array(r[:3,2].T.tolist())[0] for r in Ts]"
   ]
  },
  {
   "cell_type": "code",
   "execution_count": 15,
   "metadata": {},
   "outputs": [],
   "source": [
    "r = 1\n",
    "# (6,)\n",
    "ms = [1,3,5,2,4,6]\n",
    "# (6,)\n",
    "axs = ['x','z','z','x','z','x']\n",
    "\n",
    "def get_inertia_matrix(idx, axis):\n",
    "    i1 = 1/12 * ms[idx] * (3 * r**2 + link_lengths[idx]**2)\n",
    "    i2 = 1/2 * ms[idx] * r**2\n",
    "\n",
    "    if axis == 'z':\n",
    "        return np.diag([i1,i1,i2])\n",
    "    elif axis == 'x':\n",
    "        return np.diag([i2,i1,i1])\n",
    "    else:\n",
    "        return None\n",
    "\n",
    "# (6,3,3)\n",
    "Is = [get_inertia_matrix(i,ax) for i,ax in zip(range(6),axs)]"
   ]
  },
  {
   "cell_type": "code",
   "execution_count": 16,
   "metadata": {},
   "outputs": [],
   "source": [
    "from utils import n_link\n",
    "\n",
    "# (6,3,6)\n",
    "Jvs = [None] * n_link\n",
    "# (6,3,6)\n",
    "Jws = [None] * n_link\n",
    "# (6,3)\n",
    "pcs1 = [pc[0] for pc in pcs]\n",
    "\n",
    "for i in range(n_link):\n",
    "    Jv = sp.zeros(3,6)\n",
    "    Jw = sp.zeros(3,6)\n",
    "    for k in range(i+1):\n",
    "        Jv[:3,k] = np.cross(us[k], pcs1[i] - ps[k])\n",
    "        Jw[:3,k] = us[k]\n",
    "    \n",
    "    Jvs[i] = Jv\n",
    "    Jws[i] = Jw"
   ]
  },
  {
   "cell_type": "code",
   "execution_count": 17,
   "metadata": {},
   "outputs": [],
   "source": [
    "M = sp.zeros(6,6)\n",
    "for m,jv,jw,r,i in zip(ms,Jvs,Jws,Rs,Is):\n",
    "    M += m * jv.T * jv + jw.T * r * i * r.T * jw"
   ]
  },
  {
   "cell_type": "code",
   "execution_count": 18,
   "metadata": {},
   "outputs": [],
   "source": [
    "\n",
    "Md = sp.diff(M,t)"
   ]
  },
  {
   "cell_type": "code",
   "execution_count": 23,
   "metadata": {},
   "outputs": [],
   "source": [
    "from sympy.utilities import lambdify\n",
    "M_num = lambdify(tuple(qs),M,'numpy')"
   ]
  },
  {
   "cell_type": "code",
   "execution_count": 27,
   "metadata": {},
   "outputs": [
    {
     "name": "stdout",
     "output_type": "stream",
     "text": [
      "[[ 41.9553   2.5836  -6.9394  -0.8001  -9.4994  20.2535]\n",
      " [  2.5836  33.2065  27.5389  -4.2521 -16.664   -4.0442]\n",
      " [ -6.9394  27.5389  42.4496  -4.2521 -23.9377 -14.7718]\n",
      " [ -0.8001  -4.2521  -4.2521  77.819   34.0796   0.0383]\n",
      " [ -9.4994 -16.664  -23.9377  34.0796  46.3123  -0.0374]\n",
      " [ 20.2535  -4.0442 -14.7718   0.0383  -0.0374  41.32  ]]\n"
     ]
    }
   ],
   "source": [
    "np.set_printoptions(precision=4)\n",
    "print(M_num(*[0,1,0,1,0,1]))"
   ]
  },
  {
   "cell_type": "code",
   "execution_count": null,
   "metadata": {},
   "outputs": [],
   "source": []
  }
 ],
 "metadata": {
  "interpreter": {
   "hash": "6f36983aafed96f5fa91392796a09cfbdd379f27d71716bc55300a4571c3f4b2"
  },
  "kernelspec": {
   "display_name": "Python 3.9.7 64-bit ('for_env': conda)",
   "language": "python",
   "name": "python3"
  },
  "language_info": {
   "codemirror_mode": {
    "name": "ipython",
    "version": 3
   },
   "file_extension": ".py",
   "mimetype": "text/x-python",
   "name": "python",
   "nbconvert_exporter": "python",
   "pygments_lexer": "ipython3",
   "version": "3.9.7"
  },
  "orig_nbformat": 4
 },
 "nbformat": 4,
 "nbformat_minor": 2
}
